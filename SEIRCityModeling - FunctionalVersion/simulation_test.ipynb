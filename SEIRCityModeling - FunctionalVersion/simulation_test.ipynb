{
 "cells": [
  {
   "cell_type": "code",
   "execution_count": 1,
   "id": "0e93272c",
   "metadata": {},
   "outputs": [],
   "source": [
    "#run this command to install required libraries\n",
    "#pip install -r requirements.txt"
   ]
  },
  {
   "cell_type": "code",
   "execution_count": 2,
   "id": "c928cc31",
   "metadata": {},
   "outputs": [],
   "source": [
    "import pickle\n",
    "import cProfile\n",
    "import pstats\n",
    "import os"
   ]
  },
  {
   "cell_type": "code",
   "execution_count": 3,
   "id": "5abbebe3",
   "metadata": {},
   "outputs": [
    {
     "name": "stdout",
     "output_type": "stream",
     "text": [
      "Parent Directory: C:\\Users\\Administrator.DESKTOP-D3SVMI5\\Documents\\GitHub\\PySeirCity-Hybrid-ABM-EBM-Epi-Model\n"
     ]
    }
   ],
   "source": [
    "current_directory = os.getcwd()  # Get the current working directory\n",
    "parent_directory = os.path.abspath(os.path.join(current_directory, os.pardir))\n",
    "print(\"Parent Directory:\", parent_directory)"
   ]
  },
  {
   "cell_type": "code",
   "execution_count": 4,
   "id": "8904efc3",
   "metadata": {},
   "outputs": [],
   "source": [
    "# Load serialized data \n",
    "with open(parent_directory+'\\\\data\\\\dates.pkl', 'rb') as file:\n",
    "    dates = pickle.load(file)\n",
    "    \n",
    "with open(parent_directory+'\\\\data\\\\facility_date_time_step_urbano_agent_dic.pkl', 'rb') as file:\n",
    "    facility_date_time_step_urbano_agent_dic = pickle.load(file)\n",
    "with open(parent_directory+'\\\\data\\\\urbano_agent_date_time_step_facility_dic.pkl', 'rb') as file:\n",
    "    urbano_agent_date_time_step_facility_dic = pickle.load(file)\n",
    "    \n",
    "with open(parent_directory+'\\\\data\\\\urbano_agents_travelers_mapping.pkl', 'rb') as file:\n",
    "    urbano_agents_travelers_mapping = pickle.load(file)\n",
    "with open(parent_directory+'\\\\data\\\\traveler_urbano_agent_mapping.pkl', 'rb') as file:\n",
    "    traveler_urbano_agent_mapping = pickle.load(file)\n",
    "    \n",
    "with open(parent_directory+'\\\\data\\\\time_use_baseline_dict.pkl', 'rb') as file:\n",
    "    time_use_baseline_dict = pickle.load(file)\n",
    "with open(parent_directory+'\\\\data\\\\county_mobility_changes_dict.pkl', 'rb') as file:\n",
    "    county_mobility_changes_dict = pickle.load(file)\n",
    "with open(parent_directory+'\\\\data\\\\stationary_distributions.pkl', 'rb') as file:\n",
    "    stationary_distributions = pickle.load(file)\n",
    "with open(parent_directory+'\\\\data\\\\facility_to_index.pkl', 'rb') as file:\n",
    "    facility_to_index = pickle.load(file)"
   ]
  },
  {
   "cell_type": "code",
   "execution_count": 5,
   "id": "9aec60fc",
   "metadata": {},
   "outputs": [
    {
     "name": "stderr",
     "output_type": "stream",
     "text": [
      "G:\\Anaconda\\envs\\Python39\\lib\\site-packages\\tqdm\\auto.py:21: TqdmWarning: IProgress not found. Please update jupyter and ipywidgets. See https://ipywidgets.readthedocs.io/en/stable/user_install.html\n",
      "  from .autonotebook import tqdm as notebook_tqdm\n"
     ]
    }
   ],
   "source": [
    "from facility import Facility\n",
    "from megaagent import State, MegaAgent\n",
    "\n",
    "from seirstat import Statistics\n",
    "from preprocessing import SimulationPeriodBasicInfo\n",
    "from parameters import Parameters, VariedInfectionDurationResponse\n",
    "from interventions import GeneralTesting, ContactTracing\n",
    "from simulation import Simulation"
   ]
  },
  {
   "cell_type": "markdown",
   "id": "1298aa98",
   "metadata": {},
   "source": [
    "# Debug"
   ]
  },
  {
   "cell_type": "code",
   "execution_count": 6,
   "id": "640ba775",
   "metadata": {},
   "outputs": [],
   "source": [
    "repetitions = 1\n",
    "initial_exposed_count = 10\n",
    "# discount percentage of hazard brought by an asymptomatic individual\n",
    "asym_hazard_multiplier = 0.5\n",
    "\n",
    "parameters = Parameters(repetitions, initial_exposed_count, asym_hazard_multiplier)\n",
    "parameters.infection_duration = VariedInfectionDurationResponse(rate_from_S_to_E=2,\n",
    "                                                                rate_from_E_to_I=1/2, \n",
    "                                                                rate_from_asymI_to_R=1/8, \n",
    "                                                                rate_from_symI_to_R=1/8, \n",
    "                                                                asym_fraction=0, \n",
    "                                                                asym_hazard_multiplier=asym_hazard_multiplier)\n",
    "\n",
    "\n",
    "# # enable this block if conduct testing, contact tracing, and quarantine\n",
    "# parameters.probs_to_be_tested = {\"S\":0.1,\"E\":0.4,\"Is\":0.8,\"Ia\":0.4,\"R\":0.1} \n",
    "# parameters.test_accuracy_rate = 0.8\n",
    "# parameters.prob_of_self_report = 0.2\n",
    "# parameters.quarantine_prob = 0.05\n",
    "# parameters.conduct_testing = GeneralTesting(parameters.probs_to_be_tested, \n",
    "#                                          parameters.test_accuracy_rate,\n",
    "#                                          parameters.prob_of_self_report)\n",
    "\n",
    "# Create simulation_period_basic_info object\n",
    "simulation_period_basic_info = SimulationPeriodBasicInfo(dates,\n",
    "                                                      facility_date_time_step_urbano_agent_dic,\n",
    "                                                      urbano_agent_date_time_step_facility_dic,\n",
    "                                                      urbano_agents_travelers_mapping,\n",
    "                                                      traveler_urbano_agent_mapping,\n",
    "                                                      time_use_baseline_dict,\n",
    "                                                      county_mobility_changes_dict,\n",
    "                                                      stationary_distributions,\n",
    "                                                      facility_to_index)"
   ]
  },
  {
   "cell_type": "code",
   "execution_count": 7,
   "id": "c2369ac9",
   "metadata": {},
   "outputs": [],
   "source": [
    "# Create all Facility objects\n",
    "all_facilities_objects = {}\n",
    "for f_name in simulation_period_basic_info.AllFacilityNames:\n",
    "    facility_object = Facility(f_name, simulation_period_basic_info)\n",
    "    all_facilities_objects[f_name] = facility_object\n",
    "\n",
    "\n",
    "# Create all MegaAgents\n",
    "all_mega_agents = {}\n",
    "for MegaAgentName in simulation_period_basic_info.mega_agent_Urbano_mapping.keys():\n",
    "    travelers_in_mega_agent = simulation_period_basic_info.MegaAgent_Travelers[MegaAgentName]   \n",
    "    if travelers_in_mega_agent==0:\n",
    "        continue\n",
    "        \n",
    "    mega_agent = MegaAgent(MegaAgentName,travelers_in_mega_agent,simulation_period_basic_info)\n",
    "    all_mega_agents[MegaAgentName] = mega_agent\n",
    "\n",
    "# initialize Statistics\n",
    "stat = Statistics(all_mega_agents, dates)"
   ]
  },
  {
   "cell_type": "code",
   "execution_count": 8,
   "id": "5a74c9dd",
   "metadata": {},
   "outputs": [],
   "source": [
    "def reset_facilities_and_MegaAgents() -> None:\n",
    "    for facility_name, facility in all_facilities_objects.items():\n",
    "        facility.reset_facility()\n",
    "    for mega_agent_name, mega_agent in all_mega_agents.items():\n",
    "        mega_agent.reset_MegaAgent()"
   ]
  },
  {
   "cell_type": "code",
   "execution_count": null,
   "id": "5ca841bc",
   "metadata": {
    "scrolled": true
   },
   "outputs": [
    {
     "name": "stdout",
     "output_type": "stream",
     "text": [
      "2022-01-01 00:00:00\n",
      "2022-01-02 00:00:00\n",
      "2022-01-03 00:00:00\n",
      "2022-01-04 00:00:00\n",
      "2022-01-05 00:00:00\n",
      "2022-01-06 00:00:00\n",
      "2022-01-07 00:00:00\n",
      "2022-01-08 00:00:00\n",
      "2022-01-09 00:00:00\n",
      "2022-01-10 00:00:00\n",
      "2022-01-11 00:00:00\n",
      "2022-01-12 00:00:00\n",
      "2022-01-13 00:00:00\n",
      "2022-01-14 00:00:00\n",
      "2022-01-15 00:00:00\n",
      "2022-01-16 00:00:00\n",
      "2022-01-17 00:00:00\n",
      "2022-01-18 00:00:00\n",
      "2022-01-19 00:00:00\n",
      "2022-01-20 00:00:00\n",
      "2022-01-21 00:00:00\n",
      "2022-01-22 00:00:00\n",
      "2022-01-23 00:00:00\n",
      "2022-01-24 00:00:00\n",
      "2022-01-25 00:00:00\n",
      "2022-01-26 00:00:00\n",
      "2022-01-27 00:00:00\n",
      "2022-01-28 00:00:00\n",
      "2022-01-29 00:00:00\n",
      "2022-01-30 00:00:00\n",
      "2022-01-31 00:00:00\n",
      "2022-02-01 00:00:00\n",
      "2022-02-02 00:00:00\n",
      "2022-02-03 00:00:00\n",
      "2022-02-04 00:00:00\n",
      "2022-02-05 00:00:00\n",
      "2022-02-06 00:00:00\n",
      "2022-02-07 00:00:00\n",
      "2022-02-08 00:00:00\n",
      "2022-02-09 00:00:00\n",
      "2022-02-10 00:00:00\n",
      "2022-02-11 00:00:00\n",
      "2022-02-12 00:00:00\n",
      "2022-02-13 00:00:00\n"
     ]
    }
   ],
   "source": [
    "%%time\n",
    "with cProfile.Profile() as pr: \n",
    "\n",
    "    for _ in range(repetitions):\n",
    "#         initial_infectious = np.random.choice(list(simulation_period_basic_info.AllTravelers), \n",
    "#                                               replace = False, \n",
    "#                                               size = parameters.initial_exposed_count)\n",
    "        initial_infectious = list(simulation_period_basic_info.AllTravelers)[:parameters.initial_exposed_count]\n",
    "\n",
    "        for mega_agent_name, mega_agent in all_mega_agents.items():\n",
    "            if mega_agent.MegaAgentPopulation == 0:\n",
    "                continue\n",
    "\n",
    "            if not mega_agent.MegaAgentState.S_set.isdisjoint(initial_infectious):\n",
    "                initial_infectious_travelers_in_mega_agent = list(mega_agent.MegaAgentState.S_set.intersection(initial_infectious))\n",
    "            else:\n",
    "                continue\n",
    "\n",
    "            first_date = dates[0]\n",
    "            mega_agent.dynamic_time_spent_dic = MegaAgent.get_dynamic_time_spent(first_date,\n",
    "                                                                                mega_agent.UrbanoAgents,\n",
    "                                                                                simulation_period_basic_info)\n",
    "\n",
    "            MegaAgent.initialize_MegaAgent(first_date, \n",
    "                                           parameters,\n",
    "                                           mega_agent.MegaAgentState.S_set,\n",
    "                                           mega_agent.MegaAgentState.Is_dict,\n",
    "                                           mega_agent.MegaAgentState.Ia_dict,\n",
    "                                           mega_agent.MegaAgentState.Is_set,\n",
    "                                           mega_agent.MegaAgentState.Ia_set,\n",
    "                                           mega_agent.new_Is_count,\n",
    "                                           mega_agent.new_Ia_count,\n",
    "                                           mega_agent.MegaAgentState.R_dict,\n",
    "                                           mega_agent.MegaAgentState.Q_dict,\n",
    "                                           mega_agent.MegaAgentState.Qe_dict,\n",
    "                                           mega_agent.MegaAgentState.Qa_dict,\n",
    "                                           mega_agent.MegaAgentState.Qs_dict,\n",
    "                                           initial_infectious_travelers_in_mega_agent)\n",
    "            mega_agent.record_daily_stat(first_date, stat)    \n",
    "            mega_agent.if_initialized = True\n",
    "\n",
    "\n",
    "        for date in dates:\n",
    "            print(date)\n",
    "\n",
    "            # On each day, at the first time step, calculate dynamic time spent for each travelers\n",
    "            for mega_agent_name, mega_agent in all_mega_agents.items():\n",
    "                if mega_agent.if_initialized == True and date == dates[0]:\n",
    "                    continue\n",
    "                mega_agent.dynamic_time_spent_dic = MegaAgent.get_dynamic_time_spent(date,\n",
    "                                                                                    mega_agent.UrbanoAgents,\n",
    "                                                                                    simulation_period_basic_info)\n",
    "\n",
    "            for time_step in range(1,7):\n",
    "                for f_name, f in all_facilities_objects.items():\n",
    "                    f.FacilityHazard = Facility.computeFacilityHazard(f_name,\n",
    "                                                                      f.FaciltyIndex,\n",
    "                                                                      date,\n",
    "                                                                      time_step,\n",
    "                                                                      all_mega_agents, \n",
    "                                                                      parameters, \n",
    "                                                                      simulation_period_basic_info,\n",
    "                                                                      f.DateTimeStepAllVisitors)\n",
    "                for mega_agent_name, mega_agent in all_mega_agents.items():\n",
    "                    if mega_agent.MegaAgentPopulation == 0:\n",
    "                        continue\n",
    "\n",
    "                    if mega_agent.if_initialized == True and date == dates[0] and time_step == 1:\n",
    "                        continue\n",
    "                    else:\n",
    "                        MegaAgent.labelTravelsAsExposed(mega_agent_name,\n",
    "                                                        date, \n",
    "                                                        time_step,\n",
    "                                                        all_facilities_objects,\n",
    "                                                        mega_agent.UrbanoAgents,\n",
    "                                                        simulation_period_basic_info,\n",
    "                                                        mega_agent.dynamic_time_spent_dic,\n",
    "                                                        mega_agent.MegaAgentState.S_set,\n",
    "                                                        mega_agent.MegaAgentState.E_dict,\n",
    "                                                        mega_agent.MegaAgentState.V_dict)\n",
    "\n",
    "            # daily update \n",
    "            for mega_agent_name, mega_agent in all_mega_agents.items():\n",
    "                if mega_agent.MegaAgentPopulation == 0:\n",
    "                    continue\n",
    "                if mega_agent.if_initialized == True and date == dates[0]:\n",
    "                    continue\n",
    "                                    \n",
    "                (mega_agent.new_Is_count, mega_agent.new_Ia_count) = MegaAgent.MegaAgent_daily_update(date, \n",
    "                                                                                                      parameters,\n",
    "                                                                                                      mega_agent.MegaAgentState.S_set,\n",
    "                                                                                                      mega_agent.MegaAgentState.E_dict,\n",
    "                                                                                                      mega_agent.MegaAgentState.Is_dict,\n",
    "                                                                                                      mega_agent.MegaAgentState.Ia_dict,\n",
    "                                                                                                      mega_agent.MegaAgentState.Is_set,\n",
    "                                                                                                      mega_agent.MegaAgentState.Ia_set,\n",
    "                                                                                                      mega_agent.MegaAgentState.R_dict,\n",
    "                                                                                                      mega_agent.MegaAgentState.Q_dict,  \n",
    "                                                                                                      mega_agent.MegaAgentState.Qe_dict,\n",
    "                                                                                                      mega_agent.MegaAgentState.Qa_dict,\n",
    "                                                                                                      mega_agent.MegaAgentState.Qs_dict) \n",
    "                mega_agent.record_daily_stat(date, stat)\n",
    "        reset_facilities_and_MegaAgents()"
   ]
  },
  {
   "cell_type": "code",
   "execution_count": null,
   "id": "4a50c16b",
   "metadata": {
    "scrolled": true
   },
   "outputs": [],
   "source": [
    "st = pstats.Stats(pr)\n",
    "st.sort_stats(pstats.SortKey.TIME)\n",
    "st.print_stats()"
   ]
  },
  {
   "cell_type": "code",
   "execution_count": null,
   "id": "47e63cd5",
   "metadata": {
    "scrolled": true
   },
   "outputs": [],
   "source": [
    "stat.plot_aggregated_progression(parameters)\n",
    "stat.plot_MegaAgents_progressions()"
   ]
  },
  {
   "cell_type": "code",
   "execution_count": null,
   "id": "f83c1af7",
   "metadata": {
    "scrolled": true
   },
   "outputs": [],
   "source": [
    "stat.Reff_agg"
   ]
  },
  {
   "cell_type": "markdown",
   "id": "fb2a2adc",
   "metadata": {},
   "source": [
    "# Basic Simulation"
   ]
  },
  {
   "cell_type": "code",
   "execution_count": null,
   "id": "d340ca53",
   "metadata": {
    "scrolled": false
   },
   "outputs": [],
   "source": [
    "# %%time\n",
    "\n",
    "# # specify how many times you wanna run simulation\n",
    "# repetitions = 1\n",
    "# initial_exposed_count = 10\n",
    "# # discount percentage of hazard brought by an asymptomatic individual\n",
    "# asym_hazard_multiplier = 0.5\n",
    "# parameters = Parameters(repetitions, initial_exposed_count, asym_hazard_multiplier)\n",
    "# parameters.infection_duration = VariedInfectionDurationResponse(rate_from_S_to_E=2,\n",
    "#                                                              rate_from_E_to_I=1/2, \n",
    "#                                                              rate_from_asymI_to_R=1/4, \n",
    "#                                                              rate_from_symI_to_R=1/4, \n",
    "#                                                              asym_fraction=0, \n",
    "#                                                              asym_hazard_multiplier=asym_hazard_multiplier)\n",
    "\n",
    "\n",
    "# # Create simulation_period_basic_info object\n",
    "# simulation_period_basic_info = SimulationPeriodBasicInfo(dates,\n",
    "#                                                       facility_date_time_step_urbano_agent_dic,\n",
    "#                                                       urbano_agent_date_time_step_facility_dic,\n",
    "#                                                       urbano_agents_travelers_mapping,\n",
    "#                                                       traveler_urbano_agent_mapping,\n",
    "#                                                       time_use_baseline_dict,\n",
    "#                                                       county_mobility_changes_dict,\n",
    "#                                                       stationary_distributions,\n",
    "#                                                       facility_to_index)\n",
    "\n",
    "\n",
    "# simulation = Simulation(dates, \n",
    "#                      simulation_period_basic_info, \n",
    "#                      parameters, \n",
    "#                      simulation_period_basic_info.AllFacilityNames)\n",
    "\n",
    "# simulation.run()"
   ]
  },
  {
   "cell_type": "markdown",
   "id": "be1ce19d",
   "metadata": {},
   "source": [
    "# Testing & Contact Tracing & Quarantine"
   ]
  },
  {
   "cell_type": "code",
   "execution_count": null,
   "id": "0185bee0",
   "metadata": {
    "scrolled": false
   },
   "outputs": [],
   "source": [
    "# %%time\n",
    "\n",
    "# #with cProfile.Profile() as pr: \n",
    "\n",
    "# # specify how many times you wanna run simulation\n",
    "# repetitions = 1\n",
    "# initial_exposed_count = 10\n",
    "# # discount percentage of hazard brought by an asymptomatic individual\n",
    "# asym_hazard_multiplier = 0.5\n",
    "# parameters = Parameters(repetitions, initial_exposed_count, asym_hazard_multiplier)\n",
    "# parameters.infection_duration = VariedInfectionDurationResponse(rate_from_S_to_E=2,\n",
    "#                                                              rate_from_E_to_I=1/2, \n",
    "#                                                              rate_from_asymI_to_R=1/4, \n",
    "#                                                              rate_from_symI_to_R=1/4, \n",
    "#                                                              asym_fraction=0, \n",
    "#                                                              asym_hazard_multiplier=asym_hazard_multiplier)\n",
    "\n",
    "\n",
    "# # Create simulation_period_basic_info object\n",
    "# simulation_period_basic_info = SimulationPeriodBasicInfo(dates,\n",
    "#                                                       facility_date_time_step_urbano_agent_dic,\n",
    "#                                                       urbano_agent_date_time_step_facility_dic,\n",
    "#                                                       urbano_agents_travelers_mapping,\n",
    "#                                                       traveler_urbano_agent_mapping,\n",
    "#                                                       time_use_baseline_dict,\n",
    "#                                                       county_mobility_changes_dict,\n",
    "#                                                       stationary_distributions,\n",
    "#                                                       facility_to_index)\n",
    "\n",
    "\n",
    "# simulation = Simulation(dates, \n",
    "#                      simulation_period_basic_info, \n",
    "#                      parameters, \n",
    "#                      simulation_period_basic_info.AllFacilityNames)\n",
    "\n",
    "\n",
    "# # enable this block if conduct testing\n",
    "# parameters.probs_to_be_tested = {\"S\":0.1,\"E\":0.4,\"Is\":0.8,\"Ia\":0.4,\"R\":0.1} \n",
    "# parameters.test_accuracy_rate = 0.8\n",
    "# parameters.prob_of_self_report = 0.2\n",
    "# parameters.quarantine_prob = 0.05\n",
    "# parameters.conduct_testing = GeneralTesting(parameters.probs_to_be_tested, \n",
    "#                                          parameters.test_accuracy_rate,\n",
    "#                                          parameters.prob_of_self_report)\n",
    "\n",
    "# simulation.run()"
   ]
  },
  {
   "cell_type": "code",
   "execution_count": null,
   "id": "fa7c24b6",
   "metadata": {},
   "outputs": [],
   "source": [
    "# st = pstats.Stats(pr)\n",
    "# st.sort_stats(pstats.SortKey.TIME)\n",
    "# st.print_stats()"
   ]
  },
  {
   "cell_type": "code",
   "execution_count": null,
   "id": "30f3f4de",
   "metadata": {},
   "outputs": [],
   "source": []
  }
 ],
 "metadata": {
  "kernelspec": {
   "display_name": "Python39",
   "language": "python",
   "name": "python39"
  },
  "language_info": {
   "codemirror_mode": {
    "name": "ipython",
    "version": 3
   },
   "file_extension": ".py",
   "mimetype": "text/x-python",
   "name": "python",
   "nbconvert_exporter": "python",
   "pygments_lexer": "ipython3",
   "version": "3.9.18"
  }
 },
 "nbformat": 4,
 "nbformat_minor": 5
}
