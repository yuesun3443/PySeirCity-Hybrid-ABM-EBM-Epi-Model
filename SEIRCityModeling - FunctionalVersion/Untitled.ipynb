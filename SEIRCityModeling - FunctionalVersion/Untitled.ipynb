{
 "cells": [
  {
   "cell_type": "code",
   "execution_count": 4,
   "id": "2393da1e",
   "metadata": {},
   "outputs": [],
   "source": [
    "import numpy as np\n",
    "from scipy.special import gamma\n",
    "from scipy.optimize import fsolve\n",
    "import matplotlib.pyplot as plt"
   ]
  },
  {
   "cell_type": "code",
   "execution_count": 12,
   "id": "85cdc1f5",
   "metadata": {},
   "outputs": [],
   "source": [
    "class Weibull:\n",
    "    def __init__(self, mean, std):\n",
    "        self.mean = mean # Mean time (days)\n",
    "        self.std = std # Standard deviation (days)\n",
    "        # Calculate the coefficient of variation (CV)\n",
    "        self.cv = self.std/self.mean\n",
    "        # Solve for k numerically\n",
    "        k_initial_guess = 1.0 # Initial guess for k\n",
    "        # weibull_k is the shape parameter of the weibull distribution\n",
    "        self.weibull_k, = fsolve(self.cv_difference, k_initial_guess)\n",
    "        # Once k is found, compute lambda, lambda is the scale parameter of weibull distribution\n",
    "        self.weibull_lambda = self.mean / gamma(1 + 1 / self.weibull_k)\n",
    "\n",
    "    def cv_difference(self, k):\n",
    "        \"\"\"compute the difference between theoretical CV and given CV.\"\"\"\n",
    "        if k <= 0:\n",
    "            return np.inf\n",
    "        cv_theoretical = np.sqrt(gamma(1 + 2 / k) / (gamma(1 + 1 / k))**2 - 1)\n",
    "        return cv_theoretical - self.cv\n",
    "    \n",
    "    def weibull_cdf(self, day_len):\n",
    "        \"\"\"Calculate epi state transition probability for each person using Weibull CDF\"\"\"\n",
    "        return 1 - np.exp(- (day_len / self.weibull_lambda)**self.weibull_k)"
   ]
  },
  {
   "cell_type": "code",
   "execution_count": 13,
   "id": "43676c0f",
   "metadata": {},
   "outputs": [
    {
     "data": {
      "text/plain": [
       "3.98890579815644"
      ]
     },
     "execution_count": 13,
     "metadata": {},
     "output_type": "execute_result"
    }
   ],
   "source": [
    "wbd = Weibull(2.56, 0.72)\n",
    "wbd.weibull_k"
   ]
  },
  {
   "cell_type": "code",
   "execution_count": 14,
   "id": "51542327",
   "metadata": {},
   "outputs": [
    {
     "data": {
      "text/plain": [
       "2.8247982826025404"
      ]
     },
     "execution_count": 14,
     "metadata": {},
     "output_type": "execute_result"
    }
   ],
   "source": [
    "wbd.weibull_lambda"
   ]
  },
  {
   "cell_type": "code",
   "execution_count": 27,
   "id": "e5183308",
   "metadata": {},
   "outputs": [
    {
     "data": {
      "text/plain": [
       "array([ 7.49080238, 19.01428613, 14.63987884, 11.97316968,  3.12037281,\n",
       "        3.11989041,  1.16167224, 17.32352292, 12.02230023, 14.16145156])"
      ]
     },
     "execution_count": 27,
     "metadata": {},
     "output_type": "execute_result"
    }
   ],
   "source": [
    "np.random.seed(42)  # For reproducibility\n",
    "num_infected = 10\n",
    "max_days_infected = 20\n",
    "\n",
    "# Simulate days since infection for each person (uniform distribution)\n",
    "days_since_infection = np.random.uniform(0, max_days_infected, size=num_infected)\n",
    "days_since_infection"
   ]
  },
  {
   "cell_type": "code",
   "execution_count": 30,
   "id": "0e118949",
   "metadata": {},
   "outputs": [],
   "source": [
    "recovery_probabilities = wbd.weibull_cdf(days_since_infection)\n",
    "\n",
    "# # Normalize the recovery probabilities to sum to 1 (sampling weights)\n",
    "# weights = recovery_probabilities / np.sum(recovery_probabilities)\n",
    "# weights"
   ]
  },
  {
   "cell_type": "code",
   "execution_count": 31,
   "id": "18aa7841",
   "metadata": {},
   "outputs": [
    {
     "data": {
      "text/plain": [
       "array([1.        , 1.        , 1.        , 1.        , 0.77401656,\n",
       "       0.77380925, 0.0284714 , 1.        , 1.        , 1.        ])"
      ]
     },
     "execution_count": 31,
     "metadata": {},
     "output_type": "execute_result"
    }
   ],
   "source": [
    "recovery_probabilities"
   ]
  },
  {
   "cell_type": "code",
   "execution_count": null,
   "id": "cc645769",
   "metadata": {},
   "outputs": [],
   "source": []
  },
  {
   "cell_type": "code",
   "execution_count": 32,
   "id": "32e09d1d",
   "metadata": {},
   "outputs": [],
   "source": [
    "infected_days = np.array([5, 10, 15, 20, 25, 30])"
   ]
  },
  {
   "cell_type": "code",
   "execution_count": 36,
   "id": "478731ab",
   "metadata": {},
   "outputs": [],
   "source": [
    "median_recovery_time = 14\n",
    "mu = np.log(median_recovery_time)\n",
    "sigma = 0.5  # Assumed standard deviation\n",
    "\n",
    "# Compute recovery probabilities\n",
    "def recovery_probability(t, mu, sigma):\n",
    "    from scipy.stats import lognorm\n",
    "    # Ensure t > 0\n",
    "    t = np.maximum(t, 1e-6)\n",
    "    return lognorm.cdf(t, s=sigma, scale=np.exp(mu))\n",
    "\n",
    "#probabilities = recovery_probability(infected_days, mu, sigma)"
   ]
  },
  {
   "cell_type": "code",
   "execution_count": 38,
   "id": "a4590dd2",
   "metadata": {},
   "outputs": [
    {
     "data": {
      "text/plain": [
       "0.999999077252023"
      ]
     },
     "execution_count": 38,
     "metadata": {},
     "output_type": "execute_result"
    }
   ],
   "source": [
    "recovery_probability(152,mu,sigma)"
   ]
  },
  {
   "cell_type": "code",
   "execution_count": null,
   "id": "259dad98",
   "metadata": {},
   "outputs": [],
   "source": []
  }
 ],
 "metadata": {
  "kernelspec": {
   "display_name": "Python39",
   "language": "python",
   "name": "python39"
  },
  "language_info": {
   "codemirror_mode": {
    "name": "ipython",
    "version": 3
   },
   "file_extension": ".py",
   "mimetype": "text/x-python",
   "name": "python",
   "nbconvert_exporter": "python",
   "pygments_lexer": "ipython3",
   "version": "3.9.18"
  }
 },
 "nbformat": 4,
 "nbformat_minor": 5
}
