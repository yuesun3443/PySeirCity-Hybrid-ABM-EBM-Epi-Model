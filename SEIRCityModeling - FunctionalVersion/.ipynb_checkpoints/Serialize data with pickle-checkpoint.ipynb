{
 "cells": [
  {
   "cell_type": "code",
   "execution_count": 4,
   "id": "cf4978e3",
   "metadata": {},
   "outputs": [],
   "source": [
    "from datetime import datetime, timedelta\n",
    "import pickle\n",
    "import os\n",
    "from preprocessing import (TimeUseDataCreator, StationaryDistributionCreator, TripDataCreator)"
   ]
  },
  {
   "cell_type": "code",
   "execution_count": 5,
   "id": "955677a8",
   "metadata": {},
   "outputs": [
    {
     "name": "stdout",
     "output_type": "stream",
     "text": [
      "Current Directory: C:\\Users\\Administrator.DESKTOP-D3SVMI5\\Desktop\\Hybrid SEIR  Modeling\\PySeirCity_Hybrid_deterministic_V11\\SEIRCityModeling\n",
      "Parent Directory: C:\\Users\\Administrator.DESKTOP-D3SVMI5\\Desktop\\Hybrid SEIR  Modeling\\PySeirCity_Hybrid_deterministic_V11\n"
     ]
    }
   ],
   "source": [
    "current_directory = os.getcwd()  # Get the current working directory\n",
    "parent_directory = os.path.abspath(os.path.join(current_directory, os.pardir))\n",
    "print(\"Parent Directory:\", parent_directory)"
   ]
  },
  {
   "cell_type": "code",
   "execution_count": 13,
   "id": "93199772",
   "metadata": {},
   "outputs": [],
   "source": [
    "facility_time_use_file = \"C:\\\\Users\\\\Administrator.DESKTOP-D3SVMI5\\\\Documents\\\\GitHub\\\\CityGeneratorPort\\\\Wrapper_MapGenerator\\\\demo\\\\generate_thousand_networks\\\\UrbanoTest_New\\\\activity_time_use_2022.xlsx\"\n",
    "mobility_change_file = \"C:\\\\Users\\\\Administrator.DESKTOP-D3SVMI5\\Desktop\\\\Hybrid SEIR  Modeling\\\\Region_Mobility_Report\\\\2022_US_Region_Mobility_Report.csv\"\n",
    "urbano_trip_volumn_file = parent_directory + \"\\\\raw_data\\\\tripinfo3.xlsx\"\n"
   ]
  },
  {
   "cell_type": "code",
   "execution_count": 14,
   "id": "19dc89be",
   "metadata": {},
   "outputs": [
    {
     "name": "stdout",
     "output_type": "stream",
     "text": [
      "CPU times: total: 484 ms\n",
      "Wall time: 495 ms\n"
     ]
    }
   ],
   "source": [
    "%%time\n",
    "\n",
    "county = \"New York County\"\n",
    "time_use_baseline_dict, county_mobility_changes_dict = TimeUseDataCreator.create(facility_time_use_file, \n",
    "                                                                                 mobility_change_file, \n",
    "                                                                                 county=county)\n",
    "\n"
   ]
  },
  {
   "cell_type": "code",
   "execution_count": 15,
   "id": "9eae3c3a",
   "metadata": {},
   "outputs": [
    {
     "name": "stdout",
     "output_type": "stream",
     "text": [
      "CPU times: total: 6.38 s\n",
      "Wall time: 15.8 s\n"
     ]
    }
   ],
   "source": [
    "%%time \n",
    "\n",
    "TotalBlocks_count = 144\n",
    "stationary_distributions, facility_to_index = StationaryDistributionCreator.create(TotalBlocks_count, urbano_trip_volumn_file)"
   ]
  },
  {
   "cell_type": "code",
   "execution_count": 16,
   "id": "dc76dd5e",
   "metadata": {},
   "outputs": [
    {
     "data": {
      "text/plain": [
       "array([0.00099206, 0.00099206, 0.00099206, ..., 0.00099206, 0.00099206,\n",
       "       0.00099206], dtype=float32)"
      ]
     },
     "execution_count": 16,
     "metadata": {},
     "output_type": "execute_result"
    }
   ],
   "source": [
    "stationary_distributions[(0,1)][1][0]"
   ]
  },
  {
   "cell_type": "code",
   "execution_count": null,
   "id": "25a37aeb",
   "metadata": {},
   "outputs": [],
   "source": []
  },
  {
   "cell_type": "code",
   "execution_count": 18,
   "id": "773a75a8",
   "metadata": {},
   "outputs": [],
   "source": [
    "simulation_date_count = 45\n",
    "start_date_string = \"2022-1-1\"\n",
    "start_date_time = datetime.strptime(start_date_string, '%Y-%m-%d')\n",
    "dates = [start_date_time + timedelta(i) for i in range(simulation_date_count)]\n",
    "all_facilities = list(facility_to_index.keys())\n",
    "\n",
    "urbano_trip_volumn_files = [urbano_trip_volumn_file for i in range(simulation_date_count)]"
   ]
  },
  {
   "cell_type": "code",
   "execution_count": 19,
   "id": "f8cf8b06",
   "metadata": {},
   "outputs": [
    {
     "name": "stdout",
     "output_type": "stream",
     "text": [
      "CPU times: total: 2.05 s\n",
      "Wall time: 1min 1s\n"
     ]
    }
   ],
   "source": [
    "%%time \n",
    "\n",
    "(urbano_agents_travelers_mapping, \n",
    "traveler_urbano_agent_mapping, \n",
    "facility_date_time_step_urbano_agent_dic, \n",
    "urbano_agent_date_time_step_facility_dic) = TripDataCreator.create(start_date_string, \n",
    "                                                                   simulation_date_count, \n",
    "                                                                   urbano_trip_volumn_files, \n",
    "                                                                   all_facilities,\n",
    "                                                                   max_processor_num=8)"
   ]
  },
  {
   "cell_type": "code",
   "execution_count": 20,
   "id": "8ba72f48",
   "metadata": {},
   "outputs": [
    {
     "data": {
      "text/plain": [
       "dict_keys([datetime.datetime(2022, 1, 1, 0, 0), datetime.datetime(2022, 1, 2, 0, 0), datetime.datetime(2022, 1, 3, 0, 0), datetime.datetime(2022, 1, 4, 0, 0), datetime.datetime(2022, 1, 5, 0, 0), datetime.datetime(2022, 1, 6, 0, 0), datetime.datetime(2022, 1, 7, 0, 0), datetime.datetime(2022, 1, 8, 0, 0), datetime.datetime(2022, 1, 9, 0, 0), datetime.datetime(2022, 1, 10, 0, 0), datetime.datetime(2022, 1, 11, 0, 0), datetime.datetime(2022, 1, 12, 0, 0), datetime.datetime(2022, 1, 13, 0, 0), datetime.datetime(2022, 1, 14, 0, 0), datetime.datetime(2022, 1, 15, 0, 0), datetime.datetime(2022, 1, 16, 0, 0), datetime.datetime(2022, 1, 17, 0, 0), datetime.datetime(2022, 1, 18, 0, 0), datetime.datetime(2022, 1, 19, 0, 0), datetime.datetime(2022, 1, 20, 0, 0), datetime.datetime(2022, 1, 21, 0, 0), datetime.datetime(2022, 1, 22, 0, 0), datetime.datetime(2022, 1, 23, 0, 0), datetime.datetime(2022, 1, 24, 0, 0), datetime.datetime(2022, 1, 25, 0, 0), datetime.datetime(2022, 1, 26, 0, 0), datetime.datetime(2022, 1, 27, 0, 0), datetime.datetime(2022, 1, 28, 0, 0), datetime.datetime(2022, 1, 29, 0, 0), datetime.datetime(2022, 1, 30, 0, 0), datetime.datetime(2022, 1, 31, 0, 0), datetime.datetime(2022, 2, 1, 0, 0), datetime.datetime(2022, 2, 2, 0, 0), datetime.datetime(2022, 2, 3, 0, 0), datetime.datetime(2022, 2, 4, 0, 0), datetime.datetime(2022, 2, 5, 0, 0), datetime.datetime(2022, 2, 6, 0, 0), datetime.datetime(2022, 2, 7, 0, 0), datetime.datetime(2022, 2, 8, 0, 0), datetime.datetime(2022, 2, 9, 0, 0), datetime.datetime(2022, 2, 10, 0, 0), datetime.datetime(2022, 2, 11, 0, 0), datetime.datetime(2022, 2, 12, 0, 0), datetime.datetime(2022, 2, 13, 0, 0), datetime.datetime(2022, 2, 14, 0, 0)])"
      ]
     },
     "execution_count": 20,
     "metadata": {},
     "output_type": "execute_result"
    }
   ],
   "source": [
    "facility_date_time_step_urbano_agent_dic[('meal', 38)].keys()"
   ]
  },
  {
   "cell_type": "code",
   "execution_count": 23,
   "id": "5f2993ee",
   "metadata": {},
   "outputs": [],
   "source": [
    "# Serialization\n",
    "with open(parent_directory+'\\\\data\\\\dates.pkl', 'wb') as file:\n",
    "    pickle.dump(dates, file)\n",
    "\n",
    "with open(parent_directory+'\\\\data\\\\facility_date_time_step_urbano_agent_dic.pkl', 'wb') as file:\n",
    "    pickle.dump(facility_date_time_step_urbano_agent_dic, file)\n",
    "with open(parent_directory+'\\\\data\\\\urbano_agent_date_time_step_facility_dic.pkl', 'wb') as file:\n",
    "    pickle.dump(urbano_agent_date_time_step_facility_dic, file)\n",
    "\n",
    "with open(parent_directory+'\\\\data\\\\urbano_agents_travelers_mapping.pkl', 'wb') as file:\n",
    "    pickle.dump(urbano_agents_travelers_mapping, file)\n",
    "with open(parent_directory+'\\\\data\\\\traveler_urbano_agent_mapping.pkl', 'wb') as file:\n",
    "    pickle.dump(traveler_urbano_agent_mapping, file)\n",
    "    \n",
    "with open(parent_directory+'\\\\data\\\\time_use_baseline_dict.pkl', 'wb') as file:\n",
    "    pickle.dump(time_use_baseline_dict, file)\n",
    "with open(parent_directory+'\\\\data\\\\county_mobility_changes_dict.pkl', 'wb') as file:\n",
    "    pickle.dump(county_mobility_changes_dict, file)\n",
    "with open(parent_directory+'\\\\data\\\\stationary_distributions.pkl', 'wb') as file:\n",
    "    pickle.dump(stationary_distributions, file)\n",
    "with open(parent_directory+'\\\\data\\\\facility_to_index.pkl', 'wb') as file:\n",
    "    pickle.dump(facility_to_index, file)"
   ]
  },
  {
   "cell_type": "code",
   "execution_count": null,
   "id": "9c882df9",
   "metadata": {},
   "outputs": [],
   "source": []
  },
  {
   "cell_type": "code",
   "execution_count": null,
   "id": "241dd0fd",
   "metadata": {},
   "outputs": [],
   "source": []
  },
  {
   "cell_type": "code",
   "execution_count": null,
   "id": "ad4316ef",
   "metadata": {},
   "outputs": [],
   "source": []
  }
 ],
 "metadata": {
  "kernelspec": {
   "display_name": "Python39",
   "language": "python",
   "name": "python39"
  },
  "language_info": {
   "codemirror_mode": {
    "name": "ipython",
    "version": 3
   },
   "file_extension": ".py",
   "mimetype": "text/x-python",
   "name": "python",
   "nbconvert_exporter": "python",
   "pygments_lexer": "ipython3",
   "version": "3.9.18"
  }
 },
 "nbformat": 4,
 "nbformat_minor": 5
}
